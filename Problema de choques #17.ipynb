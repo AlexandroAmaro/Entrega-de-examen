{
 "cells": [
  {
   "cell_type": "markdown",
   "metadata": {},
   "source": [
    "# Solucion simulada tiempos de llegada"
   ]
  },
  {
   "cell_type": "code",
   "execution_count": 1,
   "metadata": {},
   "outputs": [],
   "source": [
    "import numpy as np"
   ]
  },
  {
   "cell_type": "code",
   "execution_count": 2,
   "metadata": {},
   "outputs": [
    {
     "name": "stdout",
     "output_type": "stream",
     "text": [
      "Probabilidad de zero:  0.17 %  Y ProbabilidaD >= 6:  0.01 %\n"
     ]
    }
   ],
   "source": [
    "x = np.random.choice([0, 1, 2, 3, 4, 5, 6, 7, 8, 9, 10], 100, p = [.1353, .2706, .2706, .1804, .0902, .0356, .0120, .0033, .0018, .0001, .0001])\n",
    "countZero = 0\n",
    "countSixMore = 0\n",
    "for i in x:\n",
    "    if(i == 0):\n",
    "        countZero = countZero + 1\n",
    "    elif(i >= 6):\n",
    "        countSixMore = countSixMore + 1\n",
    "print(\"Probabilidad de zero: \", countZero / 100, \"%\", \" Y ProbabilidaD >= 6: \", countSixMore / 100, \"%\")"
   ]
  },
  {
   "cell_type": "markdown",
   "metadata": {},
   "source": [
    "## Solucion analitica"
   ]
  },
  {
   "cell_type": "markdown",
   "metadata": {},
   "source": [
    "\\begin{equation}\n",
    "    f(x) = P(X =x) = \\frac{e^ \\mu \\cdot \\mu^x}\n",
    "        {X!}\n",
    "\\end{equation}"
   ]
  },
  {
   "cell_type": "markdown",
   "metadata": {},
   "source": [
    "En el problema de los choques con una media de 2  realizamos los calculos a) para saber la probabilidad del caso en que son 0 choques nos devuelve la probabilidad de 0.1353352832 b) para la probabilidad de mas de 5 choques es de 0.01556362204, que se obtuvo sacando la probabilidad de 0 - 5 y restandola a 1"
   ]
  },
  {
   "cell_type": "code",
   "execution_count": null,
   "metadata": {},
   "outputs": [],
   "source": []
  }
 ],
 "metadata": {
  "kernelspec": {
   "display_name": "Python 3",
   "language": "python",
   "name": "python3"
  },
  "language_info": {
   "codemirror_mode": {
    "name": "ipython",
    "version": 3
   },
   "file_extension": ".py",
   "mimetype": "text/x-python",
   "name": "python",
   "nbconvert_exporter": "python",
   "pygments_lexer": "ipython3",
   "version": "3.7.6"
  }
 },
 "nbformat": 4,
 "nbformat_minor": 4
}
