{
 "cells": [
  {
   "cell_type": "markdown",
   "metadata": {},
   "source": [
    "## Solucion simulada periodicos"
   ]
  },
  {
   "cell_type": "code",
   "execution_count": 24,
   "metadata": {},
   "outputs": [],
   "source": [
    "import numpy as np"
   ]
  },
  {
   "cell_type": "code",
   "execution_count": 25,
   "metadata": {},
   "outputs": [
    {
     "name": "stdout",
     "output_type": "stream",
     "text": [
      "$ 2.56\n"
     ]
    }
   ],
   "source": [
    "x = np.random.choice([1, 2, 3, 4, 5], 100, p = [0.20, 0.25, 0.25, 0.20, 0.10])\n",
    "valuesList = [-10, 0, 10, 8, 6]\n",
    "averageList = []\n",
    "cL = [0, 0, 0, 0, 0]\n",
    "for element in x:\n",
    "    if(element == 1):\n",
    "        cL[0] = cL[0] + 1\n",
    "    elif(element == 2):\n",
    "        cL[1] = cL[1] + 1\n",
    "    elif(element == 3):\n",
    "        cL[2] = cL[2] + 1\n",
    "    elif(element == 4):\n",
    "        cL[3] = cL[3] + 1\n",
    "    else:\n",
    "        cL[4] = cL[4] + 1\n",
    "for i in range(5):\n",
    "    averageList.append(cL[i] * valuesList[i])\n",
    "print(\"$\",sum(averageList) / 100)"
   ]
  },
  {
   "cell_type": "markdown",
   "metadata": {},
   "source": [
    "## Solucion analitica"
   ]
  },
  {
   "cell_type": "markdown",
   "metadata": {},
   "source": [
    "Se tomaron las ganancias/perdidas que se obtendrian de comprar 50 periodicos para cada posible resultado de ventas osea 30 / 40 / 50 / 60 / 70 dandonos los valores (-10, 0, 10, 8, 6) multiplicados pors su probabilidades respectivas (0.20, 0.25, 0.25, 0.20, 0.10).\n",
    "Lo cual nos dice que el beneficio esperado si decide hacer es plan de accion es $2.7"
   ]
  },
  {
   "cell_type": "code",
   "execution_count": null,
   "metadata": {},
   "outputs": [],
   "source": []
  }
 ],
 "metadata": {
  "kernelspec": {
   "display_name": "Python 3",
   "language": "python",
   "name": "python3"
  },
  "language_info": {
   "codemirror_mode": {
    "name": "ipython",
    "version": 3
   },
   "file_extension": ".py",
   "mimetype": "text/x-python",
   "name": "python",
   "nbconvert_exporter": "python",
   "pygments_lexer": "ipython3",
   "version": "3.7.6"
  }
 },
 "nbformat": 4,
 "nbformat_minor": 4
}
