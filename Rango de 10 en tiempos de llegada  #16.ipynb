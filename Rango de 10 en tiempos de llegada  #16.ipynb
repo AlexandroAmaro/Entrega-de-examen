{
 "cells": [
  {
   "cell_type": "markdown",
   "metadata": {},
   "source": [
    "# Solucion simulada tiempos de llegada"
   ]
  },
  {
   "cell_type": "code",
   "execution_count": 4,
   "metadata": {},
   "outputs": [],
   "source": [
    "import random as rd      # Esta parte es para la variable que genera los numeros aleatorios"
   ]
  },
  {
   "cell_type": "code",
   "execution_count": 5,
   "metadata": {},
   "outputs": [],
   "source": [
    "complete = 0             # Esto es para al final sacar el promedio de los resultados finales\n",
    "average = 0\n",
    "while complete <= 30:\n",
    "    tenPoints = 0            # Estos son los contadores de las veces que cae en el rango especificado\n",
    "    times = 0\n",
    "    while times <= 1000:    # En estas lineas esta repitiendo el experimento 1000 veces para obtener el\n",
    "        dif = 0             # total del evento sucedido osea las veces que se encuentra en el rango\n",
    "        for randomNumber in range (2):\n",
    "            randomNumber = rd.randint(0,30)\n",
    "            dif = randomNumber - dif\n",
    "            if abs(dif) <= 10:\n",
    "                tenPoints = tenPoints + 1\n",
    "        times = times + 1\n",
    "    probability = (tenPoints / (times - 1)) * 100\n",
    "    average = average + probability\n",
    "    complete = complete + 1"
   ]
  },
  {
   "cell_type": "code",
   "execution_count": 6,
   "metadata": {},
   "outputs": [
    {
     "data": {
      "text/plain": [
       "95.62333333333336"
      ]
     },
     "execution_count": 6,
     "metadata": {},
     "output_type": "execute_result"
    }
   ],
   "source": [
    "average / 30                    #esta es la probabilidad de que salga un número con 10 unidades de tiempo de diferencia"
   ]
  },
  {
   "cell_type": "markdown",
   "metadata": {},
   "source": [
    "## Solucion analitica"
   ]
  },
  {
   "cell_type": "markdown",
   "metadata": {},
   "source": [
    "\\begin{equation}\n",
    "    f(x) = P(X =x) = \\frac{e^ \\mu \\cdot \\mu^x}\n",
    "        {X!}\n",
    "\\end{equation}"
   ]
  },
  {
   "cell_type": "markdown",
   "metadata": {},
   "source": [
    "\\begin{equation}\n",
    "   \\sigma \\ de \\ poisson = \\sqrt{ \\mu}\n",
    "\\end{equation}"
   ]
  },
  {
   "cell_type": "markdown",
   "metadata": {},
   "source": [
    "\\begin{equation}\n",
    "P(X =x) = 1 - \\frac{1}\n",
    "         {k^2}\n",
    "\\end{equation}"
   ]
  },
  {
   "cell_type": "markdown",
   "metadata": {},
   "source": [
    "Se usaron las ecuaciones de Poisson, la desviacion estandar de Poisson y Chevishef, \n",
    "donde tenemos M = 15, tras un despeje tenemos que la probabilidad es de 61.27%"
   ]
  }
 ],
 "metadata": {
  "kernelspec": {
   "display_name": "Python 3",
   "language": "python",
   "name": "python3"
  },
  "language_info": {
   "codemirror_mode": {
    "name": "ipython",
    "version": 3
   },
   "file_extension": ".py",
   "mimetype": "text/x-python",
   "name": "python",
   "nbconvert_exporter": "python",
   "pygments_lexer": "ipython3",
   "version": "3.7.6"
  }
 },
 "nbformat": 4,
 "nbformat_minor": 4
}
